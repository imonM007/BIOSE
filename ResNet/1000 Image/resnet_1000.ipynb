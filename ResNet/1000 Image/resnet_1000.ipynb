{
 "cells": [
  {
   "cell_type": "code",
   "execution_count": 1,
   "id": "fffa7159",
   "metadata": {},
   "outputs": [
    {
     "name": "stderr",
     "output_type": "stream",
     "text": [
      "c:\\Users\\Talha\\anaconda3\\envs\\medical_img\\Lib\\site-packages\\torchvision\\models\\_utils.py:208: UserWarning: The parameter 'pretrained' is deprecated since 0.13 and may be removed in the future, please use 'weights' instead.\n",
      "  warnings.warn(\n",
      "c:\\Users\\Talha\\anaconda3\\envs\\medical_img\\Lib\\site-packages\\torchvision\\models\\_utils.py:223: UserWarning: Arguments other than a weight enum or `None` for 'weights' are deprecated since 0.13 and may be removed in the future. The current behavior is equivalent to passing `weights=ResNet18_Weights.IMAGENET1K_V1`. You can also use `weights=ResNet18_Weights.DEFAULT` to get the most up-to-date weights.\n",
      "  warnings.warn(msg)\n"
     ]
    },
    {
     "name": "stdout",
     "output_type": "stream",
     "text": [
      "Using device: cpu\n",
      "No 'positive' or 'negative' subfolders found in label folder. Loading images directly.\n",
      "Found 1000 images in folder1: C:\\Users\\Talha\\Documents\\BIOSE\\Kvasir-SEG\\images\n",
      "Found 1000 images in folder2: C:\\Users\\Talha\\Documents\\BIOSE\\Kvasir-SEG\\masks\n",
      "Sample filenames in folder1: ['cju0qkwl35piu0993l0dewei2.jpg', 'cju0qoxqj9q6s0835b43399p4.jpg', 'cju0qx73cjw570799j4n5cjze.jpg', 'cju0roawvklrq0799vmjorwfv.jpg', 'cju0rx1idathl0835detmsp84.jpg']\n",
      "Sample filenames in folder2: ['cju0qkwl35piu0993l0dewei2.jpg', 'cju0qoxqj9q6s0835b43399p4.jpg', 'cju0qx73cjw570799j4n5cjze.jpg', 'cju0roawvklrq0799vmjorwfv.jpg', 'cju0rx1idathl0835detmsp84.jpg']\n",
      "Warning: No label information found in filenames or subfolders. Assigning labels by splitting dataset (first half as class 0, second half as class 1).\n",
      "Label distribution: [500 500] (0: 500, 1: 500)\n",
      "Warning: Expected 800 pairs, but found 1000 pairs.\n",
      "Train set: 800 pairs (expected: 640)\n",
      "Validation set: 100 pairs (expected: 80)\n",
      "Test set: 100 pairs (expected: 80)\n",
      "\n",
      "Epoch 1/50\n"
     ]
    },
    {
     "name": "stderr",
     "output_type": "stream",
     "text": [
      "Training: 100%|██████████| 25/25 [01:11<00:00,  2.88s/it]\n",
      "Validating: 100%|██████████| 4/4 [00:03<00:00,  1.14it/s]\n"
     ]
    },
    {
     "name": "stdout",
     "output_type": "stream",
     "text": [
      "Train Loss: 0.7246 | Train Acc: 0.5088\n",
      "Val Loss: 0.7172 | Val Acc: 0.4500\n",
      "Saved new best model based on validation accuracy (during full run)\n",
      "\n",
      "Epoch 2/50\n"
     ]
    },
    {
     "name": "stderr",
     "output_type": "stream",
     "text": [
      "Training: 100%|██████████| 25/25 [01:11<00:00,  2.87s/it]\n",
      "Validating: 100%|██████████| 4/4 [00:03<00:00,  1.14it/s]\n"
     ]
    },
    {
     "name": "stdout",
     "output_type": "stream",
     "text": [
      "Train Loss: 0.6927 | Train Acc: 0.5663\n",
      "Val Loss: 0.7272 | Val Acc: 0.4200\n",
      "\n",
      "Epoch 3/50\n"
     ]
    },
    {
     "name": "stderr",
     "output_type": "stream",
     "text": [
      "Training: 100%|██████████| 25/25 [01:11<00:00,  2.87s/it]\n",
      "Validating: 100%|██████████| 4/4 [00:03<00:00,  1.14it/s]\n"
     ]
    },
    {
     "name": "stdout",
     "output_type": "stream",
     "text": [
      "Train Loss: 0.6771 | Train Acc: 0.5913\n",
      "Val Loss: 0.7333 | Val Acc: 0.4700\n",
      "Saved new best model based on validation accuracy (during full run)\n",
      "\n",
      "Epoch 4/50\n"
     ]
    },
    {
     "name": "stderr",
     "output_type": "stream",
     "text": [
      "Training: 100%|██████████| 25/25 [01:11<00:00,  2.86s/it]\n",
      "Validating: 100%|██████████| 4/4 [00:03<00:00,  1.13it/s]\n"
     ]
    },
    {
     "name": "stdout",
     "output_type": "stream",
     "text": [
      "Train Loss: 0.6618 | Train Acc: 0.5837\n",
      "Val Loss: 0.7397 | Val Acc: 0.5400\n",
      "Saved new best model based on validation accuracy (during full run)\n",
      "\n",
      "Epoch 5/50\n"
     ]
    },
    {
     "name": "stderr",
     "output_type": "stream",
     "text": [
      "Training: 100%|██████████| 25/25 [01:11<00:00,  2.88s/it]\n",
      "Validating: 100%|██████████| 4/4 [00:03<00:00,  1.15it/s]\n"
     ]
    },
    {
     "name": "stdout",
     "output_type": "stream",
     "text": [
      "Train Loss: 0.6346 | Train Acc: 0.6338\n",
      "Val Loss: 0.7657 | Val Acc: 0.4700\n",
      "\n",
      "Epoch 6/50\n"
     ]
    },
    {
     "name": "stderr",
     "output_type": "stream",
     "text": [
      "Training: 100%|██████████| 25/25 [01:11<00:00,  2.87s/it]\n",
      "Validating: 100%|██████████| 4/4 [00:03<00:00,  1.16it/s]\n"
     ]
    },
    {
     "name": "stdout",
     "output_type": "stream",
     "text": [
      "Train Loss: 0.6165 | Train Acc: 0.6450\n",
      "Val Loss: 0.7386 | Val Acc: 0.5000\n",
      "\n",
      "Epoch 7/50\n"
     ]
    },
    {
     "name": "stderr",
     "output_type": "stream",
     "text": [
      "Training: 100%|██████████| 25/25 [01:11<00:00,  2.86s/it]\n",
      "Validating: 100%|██████████| 4/4 [00:03<00:00,  1.15it/s]\n"
     ]
    },
    {
     "name": "stdout",
     "output_type": "stream",
     "text": [
      "Train Loss: 0.5858 | Train Acc: 0.6925\n",
      "Val Loss: 0.7423 | Val Acc: 0.5200\n",
      "\n",
      "Epoch 8/50\n"
     ]
    },
    {
     "name": "stderr",
     "output_type": "stream",
     "text": [
      "Training: 100%|██████████| 25/25 [01:11<00:00,  2.86s/it]\n",
      "Validating: 100%|██████████| 4/4 [00:03<00:00,  1.16it/s]\n"
     ]
    },
    {
     "name": "stdout",
     "output_type": "stream",
     "text": [
      "Train Loss: 0.5894 | Train Acc: 0.6925\n",
      "Val Loss: 0.7423 | Val Acc: 0.5400\n",
      "\n",
      "Epoch 9/50\n"
     ]
    },
    {
     "name": "stderr",
     "output_type": "stream",
     "text": [
      "Training: 100%|██████████| 25/25 [01:11<00:00,  2.86s/it]\n",
      "Validating: 100%|██████████| 4/4 [00:03<00:00,  1.15it/s]\n"
     ]
    },
    {
     "name": "stdout",
     "output_type": "stream",
     "text": [
      "Train Loss: 0.5805 | Train Acc: 0.7063\n",
      "Val Loss: 0.7451 | Val Acc: 0.5400\n",
      "\n",
      "Epoch 10/50\n"
     ]
    },
    {
     "name": "stderr",
     "output_type": "stream",
     "text": [
      "Training: 100%|██████████| 25/25 [01:11<00:00,  2.87s/it]\n",
      "Validating: 100%|██████████| 4/4 [00:03<00:00,  1.13it/s]\n"
     ]
    },
    {
     "name": "stdout",
     "output_type": "stream",
     "text": [
      "Train Loss: 0.5748 | Train Acc: 0.6937\n",
      "Val Loss: 0.7456 | Val Acc: 0.5400\n",
      "\n",
      "Epoch 11/50\n"
     ]
    },
    {
     "name": "stderr",
     "output_type": "stream",
     "text": [
      "Training: 100%|██████████| 25/25 [01:12<00:00,  2.88s/it]\n",
      "Validating: 100%|██████████| 4/4 [00:03<00:00,  1.16it/s]\n"
     ]
    },
    {
     "name": "stdout",
     "output_type": "stream",
     "text": [
      "Train Loss: 0.5724 | Train Acc: 0.7087\n",
      "Val Loss: 0.7472 | Val Acc: 0.5300\n",
      "\n",
      "Epoch 12/50\n"
     ]
    },
    {
     "name": "stderr",
     "output_type": "stream",
     "text": [
      "Training: 100%|██████████| 25/25 [01:14<00:00,  2.98s/it]\n",
      "Validating: 100%|██████████| 4/4 [00:03<00:00,  1.08it/s]\n"
     ]
    },
    {
     "name": "stdout",
     "output_type": "stream",
     "text": [
      "Train Loss: 0.5612 | Train Acc: 0.7175\n",
      "Val Loss: 0.7458 | Val Acc: 0.5400\n",
      "\n",
      "Epoch 13/50\n"
     ]
    },
    {
     "name": "stderr",
     "output_type": "stream",
     "text": [
      "Training: 100%|██████████| 25/25 [01:15<00:00,  3.01s/it]\n",
      "Validating: 100%|██████████| 4/4 [00:03<00:00,  1.07it/s]\n"
     ]
    },
    {
     "name": "stdout",
     "output_type": "stream",
     "text": [
      "Train Loss: 0.5494 | Train Acc: 0.7137\n",
      "Val Loss: 0.7444 | Val Acc: 0.5400\n",
      "\n",
      "Epoch 14/50\n"
     ]
    },
    {
     "name": "stderr",
     "output_type": "stream",
     "text": [
      "Training: 100%|██████████| 25/25 [01:15<00:00,  3.01s/it]\n",
      "Validating: 100%|██████████| 4/4 [00:03<00:00,  1.08it/s]\n"
     ]
    },
    {
     "name": "stdout",
     "output_type": "stream",
     "text": [
      "Train Loss: 0.5678 | Train Acc: 0.7137\n",
      "Val Loss: 0.7475 | Val Acc: 0.5300\n",
      "\n",
      "Epoch 15/50\n"
     ]
    },
    {
     "name": "stderr",
     "output_type": "stream",
     "text": [
      "Training: 100%|██████████| 25/25 [01:15<00:00,  3.02s/it]\n",
      "Validating: 100%|██████████| 4/4 [00:03<00:00,  1.09it/s]\n"
     ]
    },
    {
     "name": "stdout",
     "output_type": "stream",
     "text": [
      "Train Loss: 0.5572 | Train Acc: 0.7275\n",
      "Val Loss: 0.7449 | Val Acc: 0.5100\n",
      "\n",
      "Epoch 16/50\n"
     ]
    },
    {
     "name": "stderr",
     "output_type": "stream",
     "text": [
      "Training: 100%|██████████| 25/25 [01:14<00:00,  2.99s/it]\n",
      "Validating: 100%|██████████| 4/4 [00:03<00:00,  1.07it/s]\n"
     ]
    },
    {
     "name": "stdout",
     "output_type": "stream",
     "text": [
      "Train Loss: 0.5446 | Train Acc: 0.7325\n",
      "Val Loss: 0.7461 | Val Acc: 0.5100\n",
      "\n",
      "Epoch 17/50\n"
     ]
    },
    {
     "name": "stderr",
     "output_type": "stream",
     "text": [
      "Training: 100%|██████████| 25/25 [01:15<00:00,  3.03s/it]\n",
      "Validating: 100%|██████████| 4/4 [00:03<00:00,  1.07it/s]\n"
     ]
    },
    {
     "name": "stdout",
     "output_type": "stream",
     "text": [
      "Train Loss: 0.5775 | Train Acc: 0.6850\n",
      "Val Loss: 0.7471 | Val Acc: 0.5200\n",
      "\n",
      "Epoch 18/50\n"
     ]
    },
    {
     "name": "stderr",
     "output_type": "stream",
     "text": [
      "Training: 100%|██████████| 25/25 [01:15<00:00,  3.01s/it]\n",
      "Validating: 100%|██████████| 4/4 [00:03<00:00,  1.10it/s]\n"
     ]
    },
    {
     "name": "stdout",
     "output_type": "stream",
     "text": [
      "Train Loss: 0.5706 | Train Acc: 0.7100\n",
      "Val Loss: 0.7456 | Val Acc: 0.5400\n",
      "\n",
      "Epoch 19/50\n"
     ]
    },
    {
     "name": "stderr",
     "output_type": "stream",
     "text": [
      "Training: 100%|██████████| 25/25 [01:15<00:00,  3.00s/it]\n",
      "Validating: 100%|██████████| 4/4 [00:03<00:00,  1.12it/s]\n"
     ]
    },
    {
     "name": "stdout",
     "output_type": "stream",
     "text": [
      "Train Loss: 0.5728 | Train Acc: 0.7037\n",
      "Val Loss: 0.7457 | Val Acc: 0.5100\n",
      "\n",
      "Epoch 20/50\n"
     ]
    },
    {
     "name": "stderr",
     "output_type": "stream",
     "text": [
      "Training: 100%|██████████| 25/25 [01:14<00:00,  2.98s/it]\n",
      "Validating: 100%|██████████| 4/4 [00:03<00:00,  1.12it/s]\n"
     ]
    },
    {
     "name": "stdout",
     "output_type": "stream",
     "text": [
      "Train Loss: 0.5816 | Train Acc: 0.6987\n",
      "Val Loss: 0.7475 | Val Acc: 0.5200\n",
      "\n",
      "Epoch 21/50\n"
     ]
    },
    {
     "name": "stderr",
     "output_type": "stream",
     "text": [
      "Training: 100%|██████████| 25/25 [01:13<00:00,  2.93s/it]\n",
      "Validating: 100%|██████████| 4/4 [00:03<00:00,  1.09it/s]\n"
     ]
    },
    {
     "name": "stdout",
     "output_type": "stream",
     "text": [
      "Train Loss: 0.5666 | Train Acc: 0.7163\n",
      "Val Loss: 0.7460 | Val Acc: 0.5200\n",
      "\n",
      "Epoch 22/50\n"
     ]
    },
    {
     "name": "stderr",
     "output_type": "stream",
     "text": [
      "Training: 100%|██████████| 25/25 [01:15<00:00,  3.02s/it]\n",
      "Validating: 100%|██████████| 4/4 [00:03<00:00,  1.08it/s]\n"
     ]
    },
    {
     "name": "stdout",
     "output_type": "stream",
     "text": [
      "Train Loss: 0.5746 | Train Acc: 0.6913\n",
      "Val Loss: 0.7437 | Val Acc: 0.5300\n",
      "\n",
      "Epoch 23/50\n"
     ]
    },
    {
     "name": "stderr",
     "output_type": "stream",
     "text": [
      "Training: 100%|██████████| 25/25 [01:15<00:00,  3.02s/it]\n",
      "Validating: 100%|██████████| 4/4 [00:03<00:00,  1.07it/s]\n"
     ]
    },
    {
     "name": "stdout",
     "output_type": "stream",
     "text": [
      "Train Loss: 0.5522 | Train Acc: 0.7412\n",
      "Val Loss: 0.7456 | Val Acc: 0.5300\n",
      "\n",
      "Epoch 24/50\n"
     ]
    },
    {
     "name": "stderr",
     "output_type": "stream",
     "text": [
      "Training: 100%|██████████| 25/25 [01:15<00:00,  3.02s/it]\n",
      "Validating: 100%|██████████| 4/4 [00:03<00:00,  1.08it/s]\n"
     ]
    },
    {
     "name": "stdout",
     "output_type": "stream",
     "text": [
      "Train Loss: 0.5776 | Train Acc: 0.7000\n",
      "Val Loss: 0.7428 | Val Acc: 0.5300\n",
      "\n",
      "Epoch 25/50\n"
     ]
    },
    {
     "name": "stderr",
     "output_type": "stream",
     "text": [
      "Training: 100%|██████████| 25/25 [01:15<00:00,  3.01s/it]\n",
      "Validating: 100%|██████████| 4/4 [00:03<00:00,  1.09it/s]\n"
     ]
    },
    {
     "name": "stdout",
     "output_type": "stream",
     "text": [
      "Train Loss: 0.5653 | Train Acc: 0.7087\n",
      "Val Loss: 0.7460 | Val Acc: 0.5400\n",
      "\n",
      "Epoch 26/50\n"
     ]
    },
    {
     "name": "stderr",
     "output_type": "stream",
     "text": [
      "Training: 100%|██████████| 25/25 [01:15<00:00,  3.01s/it]\n",
      "Validating: 100%|██████████| 4/4 [00:03<00:00,  1.07it/s]\n"
     ]
    },
    {
     "name": "stdout",
     "output_type": "stream",
     "text": [
      "Train Loss: 0.5679 | Train Acc: 0.7013\n",
      "Val Loss: 0.7486 | Val Acc: 0.5200\n",
      "\n",
      "Epoch 27/50\n"
     ]
    },
    {
     "name": "stderr",
     "output_type": "stream",
     "text": [
      "Training: 100%|██████████| 25/25 [01:15<00:00,  3.03s/it]\n",
      "Validating: 100%|██████████| 4/4 [00:03<00:00,  1.04it/s]\n"
     ]
    },
    {
     "name": "stdout",
     "output_type": "stream",
     "text": [
      "Train Loss: 0.5644 | Train Acc: 0.7175\n",
      "Val Loss: 0.7468 | Val Acc: 0.5300\n",
      "\n",
      "Epoch 28/50\n"
     ]
    },
    {
     "name": "stderr",
     "output_type": "stream",
     "text": [
      "Training: 100%|██████████| 25/25 [01:16<00:00,  3.06s/it]\n",
      "Validating: 100%|██████████| 4/4 [00:03<00:00,  1.08it/s]\n"
     ]
    },
    {
     "name": "stdout",
     "output_type": "stream",
     "text": [
      "Train Loss: 0.5645 | Train Acc: 0.7087\n",
      "Val Loss: 0.7470 | Val Acc: 0.5300\n",
      "\n",
      "Epoch 29/50\n"
     ]
    },
    {
     "name": "stderr",
     "output_type": "stream",
     "text": [
      "Training: 100%|██████████| 25/25 [01:18<00:00,  3.15s/it]\n",
      "Validating: 100%|██████████| 4/4 [00:03<00:00,  1.12it/s]\n"
     ]
    },
    {
     "name": "stdout",
     "output_type": "stream",
     "text": [
      "Train Loss: 0.5686 | Train Acc: 0.7037\n",
      "Val Loss: 0.7453 | Val Acc: 0.5300\n",
      "\n",
      "Epoch 30/50\n"
     ]
    },
    {
     "name": "stderr",
     "output_type": "stream",
     "text": [
      "Training: 100%|██████████| 25/25 [01:14<00:00,  2.99s/it]\n",
      "Validating: 100%|██████████| 4/4 [00:03<00:00,  1.10it/s]\n"
     ]
    },
    {
     "name": "stdout",
     "output_type": "stream",
     "text": [
      "Train Loss: 0.5713 | Train Acc: 0.7150\n",
      "Val Loss: 0.7461 | Val Acc: 0.5200\n",
      "\n",
      "Epoch 31/50\n"
     ]
    },
    {
     "name": "stderr",
     "output_type": "stream",
     "text": [
      "Training: 100%|██████████| 25/25 [01:13<00:00,  2.95s/it]\n",
      "Validating: 100%|██████████| 4/4 [00:03<00:00,  1.13it/s]\n"
     ]
    },
    {
     "name": "stdout",
     "output_type": "stream",
     "text": [
      "Train Loss: 0.5455 | Train Acc: 0.7288\n",
      "Val Loss: 0.7463 | Val Acc: 0.5400\n",
      "\n",
      "Epoch 32/50\n"
     ]
    },
    {
     "name": "stderr",
     "output_type": "stream",
     "text": [
      "Training: 100%|██████████| 25/25 [01:16<00:00,  3.04s/it]\n",
      "Validating: 100%|██████████| 4/4 [00:03<00:00,  1.05it/s]\n"
     ]
    },
    {
     "name": "stdout",
     "output_type": "stream",
     "text": [
      "Train Loss: 0.5528 | Train Acc: 0.7288\n",
      "Val Loss: 0.7500 | Val Acc: 0.5200\n",
      "\n",
      "Epoch 33/50\n"
     ]
    },
    {
     "name": "stderr",
     "output_type": "stream",
     "text": [
      "Training: 100%|██████████| 25/25 [01:16<00:00,  3.05s/it]\n",
      "Validating: 100%|██████████| 4/4 [00:03<00:00,  1.05it/s]\n"
     ]
    },
    {
     "name": "stdout",
     "output_type": "stream",
     "text": [
      "Train Loss: 0.5730 | Train Acc: 0.6987\n",
      "Val Loss: 0.7491 | Val Acc: 0.5200\n",
      "\n",
      "Epoch 34/50\n"
     ]
    },
    {
     "name": "stderr",
     "output_type": "stream",
     "text": [
      "Training: 100%|██████████| 25/25 [01:16<00:00,  3.06s/it]\n",
      "Validating: 100%|██████████| 4/4 [00:03<00:00,  1.06it/s]\n"
     ]
    },
    {
     "name": "stdout",
     "output_type": "stream",
     "text": [
      "Train Loss: 0.5619 | Train Acc: 0.7200\n",
      "Val Loss: 0.7485 | Val Acc: 0.5100\n",
      "\n",
      "Epoch 35/50\n"
     ]
    },
    {
     "name": "stderr",
     "output_type": "stream",
     "text": [
      "Training: 100%|██████████| 25/25 [01:16<00:00,  3.06s/it]\n",
      "Validating: 100%|██████████| 4/4 [00:03<00:00,  1.06it/s]\n"
     ]
    },
    {
     "name": "stdout",
     "output_type": "stream",
     "text": [
      "Train Loss: 0.5666 | Train Acc: 0.7125\n",
      "Val Loss: 0.7466 | Val Acc: 0.5200\n",
      "\n",
      "Epoch 36/50\n"
     ]
    },
    {
     "name": "stderr",
     "output_type": "stream",
     "text": [
      "Training: 100%|██████████| 25/25 [01:16<00:00,  3.06s/it]\n",
      "Validating: 100%|██████████| 4/4 [00:03<00:00,  1.06it/s]\n"
     ]
    },
    {
     "name": "stdout",
     "output_type": "stream",
     "text": [
      "Train Loss: 0.5740 | Train Acc: 0.6987\n",
      "Val Loss: 0.7468 | Val Acc: 0.5400\n",
      "\n",
      "Epoch 37/50\n"
     ]
    },
    {
     "name": "stderr",
     "output_type": "stream",
     "text": [
      "Training: 100%|██████████| 25/25 [01:16<00:00,  3.06s/it]\n",
      "Validating: 100%|██████████| 4/4 [00:03<00:00,  1.06it/s]\n"
     ]
    },
    {
     "name": "stdout",
     "output_type": "stream",
     "text": [
      "Train Loss: 0.5679 | Train Acc: 0.7275\n",
      "Val Loss: 0.7476 | Val Acc: 0.5300\n",
      "\n",
      "Epoch 38/50\n"
     ]
    },
    {
     "name": "stderr",
     "output_type": "stream",
     "text": [
      "Training: 100%|██████████| 25/25 [01:16<00:00,  3.04s/it]\n",
      "Validating: 100%|██████████| 4/4 [00:03<00:00,  1.08it/s]\n"
     ]
    },
    {
     "name": "stdout",
     "output_type": "stream",
     "text": [
      "Train Loss: 0.5571 | Train Acc: 0.7200\n",
      "Val Loss: 0.7474 | Val Acc: 0.5300\n",
      "\n",
      "Epoch 39/50\n"
     ]
    },
    {
     "name": "stderr",
     "output_type": "stream",
     "text": [
      "Training: 100%|██████████| 25/25 [01:15<00:00,  3.02s/it]\n",
      "Validating: 100%|██████████| 4/4 [00:03<00:00,  1.06it/s]\n"
     ]
    },
    {
     "name": "stdout",
     "output_type": "stream",
     "text": [
      "Train Loss: 0.5593 | Train Acc: 0.7188\n",
      "Val Loss: 0.7477 | Val Acc: 0.5400\n",
      "\n",
      "Epoch 40/50\n"
     ]
    },
    {
     "name": "stderr",
     "output_type": "stream",
     "text": [
      "Training: 100%|██████████| 25/25 [01:17<00:00,  3.10s/it]\n",
      "Validating: 100%|██████████| 4/4 [00:03<00:00,  1.04it/s]\n"
     ]
    },
    {
     "name": "stdout",
     "output_type": "stream",
     "text": [
      "Train Loss: 0.5565 | Train Acc: 0.7262\n",
      "Val Loss: 0.7449 | Val Acc: 0.5200\n",
      "\n",
      "Epoch 41/50\n"
     ]
    },
    {
     "name": "stderr",
     "output_type": "stream",
     "text": [
      "Training: 100%|██████████| 25/25 [01:14<00:00,  2.98s/it]\n",
      "Validating: 100%|██████████| 4/4 [00:03<00:00,  1.13it/s]\n"
     ]
    },
    {
     "name": "stdout",
     "output_type": "stream",
     "text": [
      "Train Loss: 0.5723 | Train Acc: 0.7025\n",
      "Val Loss: 0.7510 | Val Acc: 0.5200\n",
      "\n",
      "Epoch 42/50\n"
     ]
    },
    {
     "name": "stderr",
     "output_type": "stream",
     "text": [
      "Training: 100%|██████████| 25/25 [01:13<00:00,  2.96s/it]\n",
      "Validating: 100%|██████████| 4/4 [00:03<00:00,  1.11it/s]\n"
     ]
    },
    {
     "name": "stdout",
     "output_type": "stream",
     "text": [
      "Train Loss: 0.5725 | Train Acc: 0.7200\n",
      "Val Loss: 0.7441 | Val Acc: 0.5100\n",
      "\n",
      "Epoch 43/50\n"
     ]
    },
    {
     "name": "stderr",
     "output_type": "stream",
     "text": [
      "Training: 100%|██████████| 25/25 [01:14<00:00,  2.99s/it]\n",
      "Validating: 100%|██████████| 4/4 [00:03<00:00,  1.12it/s]\n"
     ]
    },
    {
     "name": "stdout",
     "output_type": "stream",
     "text": [
      "Train Loss: 0.5661 | Train Acc: 0.7150\n",
      "Val Loss: 0.7462 | Val Acc: 0.5300\n",
      "\n",
      "Epoch 44/50\n"
     ]
    },
    {
     "name": "stderr",
     "output_type": "stream",
     "text": [
      "Training: 100%|██████████| 25/25 [01:15<00:00,  3.02s/it]\n",
      "Validating: 100%|██████████| 4/4 [00:03<00:00,  1.09it/s]\n"
     ]
    },
    {
     "name": "stdout",
     "output_type": "stream",
     "text": [
      "Train Loss: 0.5660 | Train Acc: 0.7100\n",
      "Val Loss: 0.7450 | Val Acc: 0.5400\n",
      "\n",
      "Epoch 45/50\n"
     ]
    },
    {
     "name": "stderr",
     "output_type": "stream",
     "text": [
      "Training: 100%|██████████| 25/25 [01:16<00:00,  3.07s/it]\n",
      "Validating: 100%|██████████| 4/4 [00:03<00:00,  1.07it/s]\n"
     ]
    },
    {
     "name": "stdout",
     "output_type": "stream",
     "text": [
      "Train Loss: 0.5581 | Train Acc: 0.7137\n",
      "Val Loss: 0.7430 | Val Acc: 0.5100\n",
      "\n",
      "Epoch 46/50\n"
     ]
    },
    {
     "name": "stderr",
     "output_type": "stream",
     "text": [
      "Training: 100%|██████████| 25/25 [01:15<00:00,  3.02s/it]\n",
      "Validating: 100%|██████████| 4/4 [00:03<00:00,  1.14it/s]\n"
     ]
    },
    {
     "name": "stdout",
     "output_type": "stream",
     "text": [
      "Train Loss: 0.5689 | Train Acc: 0.7137\n",
      "Val Loss: 0.7443 | Val Acc: 0.5400\n",
      "\n",
      "Epoch 47/50\n"
     ]
    },
    {
     "name": "stderr",
     "output_type": "stream",
     "text": [
      "Training: 100%|██████████| 25/25 [01:11<00:00,  2.88s/it]\n",
      "Validating: 100%|██████████| 4/4 [00:03<00:00,  1.12it/s]\n"
     ]
    },
    {
     "name": "stdout",
     "output_type": "stream",
     "text": [
      "Train Loss: 0.5648 | Train Acc: 0.7262\n",
      "Val Loss: 0.7471 | Val Acc: 0.5300\n",
      "\n",
      "Epoch 48/50\n"
     ]
    },
    {
     "name": "stderr",
     "output_type": "stream",
     "text": [
      "Training: 100%|██████████| 25/25 [01:13<00:00,  2.92s/it]\n",
      "Validating: 100%|██████████| 4/4 [00:03<00:00,  1.13it/s]\n"
     ]
    },
    {
     "name": "stdout",
     "output_type": "stream",
     "text": [
      "Train Loss: 0.5569 | Train Acc: 0.7238\n",
      "Val Loss: 0.7455 | Val Acc: 0.5300\n",
      "\n",
      "Epoch 49/50\n"
     ]
    },
    {
     "name": "stderr",
     "output_type": "stream",
     "text": [
      "Training: 100%|██████████| 25/25 [01:12<00:00,  2.88s/it]\n",
      "Validating: 100%|██████████| 4/4 [00:03<00:00,  1.14it/s]\n"
     ]
    },
    {
     "name": "stdout",
     "output_type": "stream",
     "text": [
      "Train Loss: 0.5575 | Train Acc: 0.7200\n",
      "Val Loss: 0.7458 | Val Acc: 0.5100\n",
      "\n",
      "Epoch 50/50\n"
     ]
    },
    {
     "name": "stderr",
     "output_type": "stream",
     "text": [
      "Training: 100%|██████████| 25/25 [01:11<00:00,  2.88s/it]\n",
      "Validating: 100%|██████████| 4/4 [00:03<00:00,  1.13it/s]\n"
     ]
    },
    {
     "name": "stdout",
     "output_type": "stream",
     "text": [
      "Train Loss: 0.5478 | Train Acc: 0.7262\n",
      "Val Loss: 0.7446 | Val Acc: 0.5400\n",
      "\n",
      "Plotting training history...\n"
     ]
    },
    {
     "data": {
      "image/png": "[encoded data removed]",
      "text/plain": [
       "<Figure size 1500x1000 with 4 Axes>"
      ]
     },
     "metadata": {},
     "output_type": "display_data"
    },
    {
     "name": "stdout",
     "output_type": "stream",
     "text": [
      "\n",
      "Testing on test set...\n"
     ]
    },
    {
     "name": "stderr",
     "output_type": "stream",
     "text": [
      "Validating: 100%|██████████| 4/4 [00:03<00:00,  1.11it/s]"
     ]
    },
    {
     "name": "stdout",
     "output_type": "stream",
     "text": [
      "Test Loss: 0.7619 | Test Acc: 0.4200\n"
     ]
    },
    {
     "name": "stderr",
     "output_type": "stream",
     "text": [
      "\n"
     ]
    }
   ],
   "source": [
    "# Import required libraries\n",
    "import torch\n",
    "import torch.nn as nn\n",
    "import torch.optim as optim\n",
    "from torchvision import models, transforms\n",
    "from torch.utils.data import Dataset, DataLoader\n",
    "from PIL import Image\n",
    "import os\n",
    "from glob import glob\n",
    "import numpy as np\n",
    "import matplotlib.pyplot as plt\n",
    "from sklearn.model_selection import train_test_split\n",
    "from tqdm import tqdm\n",
    "\n",
    "# Set random seed for reproducibility\n",
    "torch.manual_seed(42)\n",
    "np.random.seed(42)\n",
    "\n",
    "# Step 1: Set up device and parameters\n",
    "device = torch.device(\"cuda\" if torch.cuda.is_available() else \"cpu\")\n",
    "print(f\"Using device: {device}\")\n",
    "\n",
    "# Configuration dictionary\n",
    "config = {\n",
    "    \"folder1_path\": r\"C:\\Users\\Talha\\Documents\\BIOSE\\Kvasir-SEG\\images\",\n",
    "    \"folder2_path\": r\"C:\\Users\\Talha\\Documents\\BIOSE\\Kvasir-SEG\\masks\",\n",
    "    \"batch_size\": 32,\n",
    "    \"learning_rate\": 0.0001,\n",
    "    \"num_epochs\": 50,\n",
    "    \"image_size\": 224,\n",
    "    \"num_classes\": 2,\n",
    "    \"val_split\": 0.1111,\n",
    "    \"test_split\": 0.1,\n",
    "    # \"patience\": 5 # No longer needed without early stopping\n",
    "}\n",
    "\n",
    "## Step 2: Create dataset class\n",
    "class PairedImageDataset(Dataset):\n",
    "    def __init__(self, pairs, labels, transform=None):\n",
    "        self.pairs = pairs\n",
    "        self.labels = labels\n",
    "        self.transform = transform\n",
    "\n",
    "    def __len__(self):\n",
    "        return len(self.pairs)\n",
    "\n",
    "    def __getitem__(self, idx):\n",
    "        img1_path, img2_path = self.pairs[idx]\n",
    "        label = self.labels[idx]\n",
    "\n",
    "        img1 = Image.open(img1_path).convert('RGB')\n",
    "        img2 = Image.open(img2_path).convert('RGB')\n",
    "\n",
    "        if self.transform:\n",
    "            img1 = self.transform(img1)\n",
    "            img2 = self.transform(img2)\n",
    "\n",
    "        return img1, img2, torch.tensor(label, dtype=torch.long)\n",
    "\n",
    "## Step 3: Prepare data loaders\n",
    "def prepare_data_loaders(folder1, folder2, config):\n",
    "    # Get all image files from both folders (support multiple extensions)\n",
    "    extensions = ['*.jpg', '*.png', '*.jpeg']\n",
    "    images1 = []\n",
    "    images2 = []\n",
    "\n",
    "    # Check if folder2 (label) has subfolders like 'positive' and 'negative'\n",
    "    subfolders = [f.name for f in os.scandir(folder2) if f.is_dir()]\n",
    "    if 'positive' in subfolders and 'negative' in subfolders:\n",
    "        print(\"Found subfolders 'positive' and 'negative' in label folder. Assigning labels based on subfolder.\")\n",
    "        # Load images from subfolders\n",
    "        images2_positive = []\n",
    "        images2_negative = []\n",
    "        for ext in extensions:\n",
    "            images2_positive.extend(sorted(glob(os.path.join(folder2, 'positive', ext))))\n",
    "            images2_negative.extend(sorted(glob(os.path.join(folder2, 'negative', ext))))\n",
    "        images2 = images2_positive + images2_negative\n",
    "        # Assign labels based on subfolder\n",
    "        labels = [1] * len(images2_positive) + [0] * len(images2_negative)\n",
    "        # Load corresponding images from folder1 (assuming same filenames)\n",
    "        images1 = []\n",
    "        for img2_path in images2:\n",
    "            filename = os.path.basename(img2_path)\n",
    "            img1_path = os.path.join(folder1, filename)\n",
    "            if not os.path.exists(img1_path):\n",
    "                raise FileNotFoundError(f\"Corresponding image {img1_path} not found in folder1.\")\n",
    "            images1.append(img1_path)\n",
    "    else:\n",
    "        print(\"No 'positive' or 'negative' subfolders found in label folder. Loading images directly.\")\n",
    "        for ext in extensions:\n",
    "            images1.extend(sorted(glob(os.path.join(folder1, ext))))\n",
    "            images2.extend(sorted(glob(os.path.join(folder2, ext))))\n",
    "\n",
    "        # Remove duplicates (in case some images match multiple extensions)\n",
    "        images1 = sorted(list(set(images1)))\n",
    "        images2 = sorted(list(set(images2)))\n",
    "\n",
    "        # Debug: Print the number of images found\n",
    "        print(f\"Found {len(images1)} images in folder1: {folder1}\")\n",
    "        print(f\"Found {len(images2)} images in folder2: {folder2}\")\n",
    "\n",
    "        # Debug: Print sample filenames to understand naming pattern\n",
    "        print(\"Sample filenames in folder1:\", [os.path.basename(path) for path in images1[:5]])\n",
    "        print(\"Sample filenames in folder2:\", [os.path.basename(path) for path in images2[:5]])\n",
    "\n",
    "        # Verify we have matching pairs\n",
    "        if len(images1) != len(images2):\n",
    "            raise ValueError(f\"Number of images in both folders must match. Found {len(images1)} in folder1 and {len(images2)} in folder2.\")\n",
    "\n",
    "        # Check if the dataset is empty\n",
    "        if len(images1) == 0:\n",
    "            raise ValueError(\"No images found in one or both folders. Check the folder paths and ensure they contain images.\")\n",
    "\n",
    "        # Create pairs (assuming corresponding images have same names or order)\n",
    "        pairs = list(zip(images1, images2))\n",
    "\n",
    "        # Since filenames don't indicate labels, assign labels by splitting the dataset\n",
    "        # First half as class 0, second half as class 1 (temporary solution)\n",
    "        print(\"Warning: No label information found in filenames or subfolders. Assigning labels by splitting dataset (first half as class 0, second half as class 1).\")\n",
    "        labels = []\n",
    "        for idx in range(len(pairs)):\n",
    "            if idx < len(pairs) // 2:\n",
    "                labels.append(0)\n",
    "            else:\n",
    "                labels.append(1)\n",
    "        labels = np.array(labels)\n",
    "\n",
    "    # Check label distribution and ensure both classes are present\n",
    "    label_counts = np.bincount(labels)\n",
    "    if len(label_counts) < 2:\n",
    "        raise ValueError(f\"Dataset contains only one class (label distribution: {label_counts}). Binary classification requires both classes (0 and 1).\")\n",
    "    print(f\"Label distribution: {label_counts} (0: {label_counts[0]}, 1: {label_counts[1]})\")\n",
    "\n",
    "    # Check if the dataset size matches expectation\n",
    "    expected_size = 800\n",
    "    if len(pairs) != expected_size:\n",
    "        print(f\"Warning: Expected {expected_size} pairs, but found {len(pairs)} pairs.\")\n",
    "\n",
    "    # Split data into train, validation, and test for 80/10/10 split\n",
    "    train_val_pairs, test_pairs, train_val_labels, test_labels = train_test_split(\n",
    "        pairs, labels, test_size=config[\"test_split\"], random_state=42)\n",
    "\n",
    "    train_pairs, val_pairs, train_labels, val_labels = train_test_split(\n",
    "        train_val_pairs, train_val_labels, test_size=config[\"val_split\"], random_state=42)\n",
    "\n",
    "    # Debug: Print the sizes of each split\n",
    "    print(f\"Train set: {len(train_pairs)} pairs (expected: 640)\")\n",
    "    print(f\"Validation set: {len(val_pairs)} pairs (expected: 80)\")\n",
    "    print(f\"Test set: {len(test_pairs)} pairs (expected: 80)\")\n",
    "\n",
    "    # Define transformations with increased augmentation\n",
    "    train_transform = transforms.Compose([\n",
    "        transforms.Resize((config[\"image_size\"], config[\"image_size\"])),\n",
    "        transforms.RandomHorizontalFlip(p=0.5),\n",
    "        transforms.RandomVerticalFlip(p=0.5),\n",
    "        transforms.RandomRotation(30),\n",
    "        transforms.ColorJitter(brightness=0.2, contrast=0.2, saturation=0.2),\n",
    "        transforms.RandomAffine(degrees=0, translate=(0.1, 0.1)),\n",
    "        transforms.ToTensor(),\n",
    "        transforms.Normalize(mean=[0.485, 0.456, 0.406], std=[0.229, 0.224, 0.225])\n",
    "    ])\n",
    "\n",
    "    val_transform = transforms.Compose([\n",
    "        transforms.Resize((config[\"image_size\"], config[\"image_size\"])),\n",
    "        transforms.ToTensor(),\n",
    "        transforms.Normalize(mean=[0.485, 0.456, 0.406], std=[0.229, 0.224, 0.225])\n",
    "    ])\n",
    "\n",
    "    # Create datasets\n",
    "    train_dataset = PairedImageDataset(train_pairs, train_labels, train_transform)\n",
    "    val_dataset = PairedImageDataset(val_pairs, val_labels, val_transform)\n",
    "    test_dataset = PairedImageDataset(test_pairs, test_labels, val_transform)\n",
    "\n",
    "    # Create data loaders\n",
    "    train_loader = DataLoader(train_dataset, batch_size=config[\"batch_size\"], shuffle=True)\n",
    "    val_loader = DataLoader(val_dataset, batch_size=config[\"batch_size\"], shuffle=False)\n",
    "    test_loader = DataLoader(test_dataset, batch_size=config[\"batch_size\"], shuffle=False)\n",
    "\n",
    "    return train_loader, val_loader, test_loader\n",
    "\n",
    "## Step 4: Define the ResNet model\n",
    "class PairedResNet(nn.Module):\n",
    "    def __init__(self, num_classes):\n",
    "        super(PairedResNet, self).__init__()\n",
    "        # Load pretrained ResNet\n",
    "        self.resnet = models.resnet18(pretrained=True)\n",
    "\n",
    "        # Remove the final fully connected layer\n",
    "        self.feature_extractor = nn.Sequential(*list(self.resnet.children())[:-1])\n",
    "\n",
    "        # Freeze fewer layers (unfreeze more for fine-tuning)\n",
    "        for param in self.feature_extractor[:3].parameters():\n",
    "            param.requires_grad = False\n",
    "\n",
    "        # New layers for processing pairs\n",
    "        self.fc = nn.Sequential(\n",
    "            nn.Linear(512 * 2, 512),\n",
    "            nn.ReLU(),\n",
    "            nn.Dropout(0.5),\n",
    "            nn.Linear(512, num_classes)\n",
    "        )\n",
    "\n",
    "    def forward_one(self, x):\n",
    "        x = self.feature_extractor(x)\n",
    "        x = x.view(x.size(0), -1)\n",
    "        return x\n",
    "\n",
    "    def forward(self, x1, x2):\n",
    "        # Process both images\n",
    "        feat1 = self.forward_one(x1)\n",
    "        feat2 = self.forward_one(x2)\n",
    "\n",
    "        # Concatenate features\n",
    "        combined = torch.cat((feat1, feat2), dim=1)\n",
    "\n",
    "        # Final classification\n",
    "        output = self.fc(combined)\n",
    "        return output\n",
    "\n",
    "## Step 5: Training and validation functions\n",
    "def train_epoch(model, loader, criterion, optimizer, device):\n",
    "    model.train()\n",
    "    running_loss = 0.0\n",
    "    correct = 0\n",
    "    total = 0\n",
    "\n",
    "    for img1, img2, labels in tqdm(loader, desc=\"Training\"):\n",
    "        img1 = img1.to(device)\n",
    "        img2 = img2.to(device)\n",
    "        labels = labels.to(device)\n",
    "\n",
    "        optimizer.zero_grad()\n",
    "\n",
    "        outputs = model(img1, img2)\n",
    "        loss = criterion(outputs, labels)\n",
    "\n",
    "        loss.backward()\n",
    "        optimizer.step()\n",
    "\n",
    "        running_loss += loss.item()\n",
    "        _, predicted = torch.max(outputs.data, 1)\n",
    "        total += labels.size(0)\n",
    "        correct += (predicted == labels).sum().item()\n",
    "\n",
    "    epoch_loss = running_loss / len(loader)\n",
    "    epoch_acc = correct / total\n",
    "    return epoch_loss, epoch_acc\n",
    "\n",
    "def validate(model, loader, criterion, device):\n",
    "    model.eval()\n",
    "    running_loss = 0.0\n",
    "    correct = 0\n",
    "    total = 0\n",
    "\n",
    "    with torch.no_grad():\n",
    "        for img1, img2, labels in tqdm(loader, desc=\"Validating\"):\n",
    "            img1 = img1.to(device)\n",
    "            img2 = img2.to(device)\n",
    "            labels = labels.to(device)\n",
    "\n",
    "            outputs = model(img1, img2)\n",
    "            loss = criterion(outputs, labels)\n",
    "\n",
    "            running_loss += loss.item()\n",
    "            _, predicted = torch.max(outputs.data, 1)\n",
    "            total += labels.size(0)\n",
    "            correct += (predicted == labels).sum().item()\n",
    "\n",
    "    val_loss = running_loss / len(loader)\n",
    "    val_acc = correct / total\n",
    "    return val_loss, val_acc\n",
    "\n",
    "# --- Plotting Function (remains the same) ---\n",
    "def plot_history(history):\n",
    "    epochs = range(1, len(history['train_loss']) + 1)\n",
    "\n",
    "    plt.figure(figsize=(15, 10))\n",
    "\n",
    "    # Plot Training Loss\n",
    "    plt.subplot(2, 2, 1)\n",
    "    plt.plot(epochs, history['train_loss'], 'b', label='Training Loss')\n",
    "    plt.title('Training Loss')\n",
    "    plt.xlabel('Epochs')\n",
    "    plt.ylabel('Loss')\n",
    "    plt.legend()\n",
    "\n",
    "    # Plot Validation Loss\n",
    "    plt.subplot(2, 2, 2)\n",
    "    plt.plot(epochs, history['val_loss'], 'r', label='Validation Loss')\n",
    "    plt.title('Validation Loss')\n",
    "    plt.xlabel('Epochs')\n",
    "    plt.ylabel('Loss')\n",
    "    plt.legend()\n",
    "\n",
    "    # Plot Training Accuracy\n",
    "    plt.subplot(2, 2, 3)\n",
    "    plt.plot(epochs, history['train_acc'], 'b', label='Training Accuracy')\n",
    "    plt.title('Training Accuracy')\n",
    "    plt.xlabel('Epochs')\n",
    "    plt.ylabel('Accuracy')\n",
    "    plt.legend()\n",
    "\n",
    "    # Plot Validation Accuracy\n",
    "    plt.subplot(2, 2, 4)\n",
    "    plt.plot(epochs, history['val_acc'], 'r', label='Validation Accuracy')\n",
    "    plt.title('Validation Accuracy')\n",
    "    plt.xlabel('Epochs')\n",
    "    plt.ylabel('Accuracy')\n",
    "    plt.legend()\n",
    "\n",
    "    plt.tight_layout()\n",
    "    plt.show()\n",
    "\n",
    "## Step 6: Main training loop without early stopping\n",
    "def main(config):\n",
    "    # Prepare data loaders\n",
    "    train_loader, val_loader, test_loader = prepare_data_loaders(\n",
    "        config[\"folder1_path\"], config[\"folder2_path\"], config)\n",
    "\n",
    "    # Initialize model\n",
    "    model = PairedResNet(config[\"num_classes\"]).to(device)\n",
    "\n",
    "    # Loss function and optimizer\n",
    "    criterion = nn.CrossEntropyLoss()\n",
    "    optimizer = optim.Adam(model.parameters(), lr=config[\"learning_rate\"])\n",
    "\n",
    "    # Learning rate scheduler\n",
    "    scheduler = optim.lr_scheduler.ReduceLROnPlateau(optimizer, 'min', patience=3, factor=0.1)\n",
    "\n",
    "    # Training history\n",
    "    history = {\n",
    "        'train_loss': [],\n",
    "        'train_acc': [],\n",
    "        'val_loss': [],\n",
    "        'val_acc': []\n",
    "    }\n",
    "\n",
    "    # Training loop runs for the full number of epochs\n",
    "    for epoch in range(config[\"num_epochs\"]):\n",
    "        print(f\"\\nEpoch {epoch + 1}/{config['num_epochs']}\")\n",
    "\n",
    "        # Train\n",
    "        train_loss, train_acc = train_epoch(model, train_loader, criterion, optimizer, device)\n",
    "        history['train_loss'].append(train_loss)\n",
    "        history['train_acc'].append(train_acc)\n",
    "\n",
    "        # Validate\n",
    "        val_loss, val_acc = validate(model, val_loader, criterion, device)\n",
    "        history['val_loss'].append(val_loss)\n",
    "        history['val_acc'].append(val_acc)\n",
    "\n",
    "        # Update scheduler\n",
    "        scheduler.step(val_loss)\n",
    "\n",
    "        print(f\"Train Loss: {train_loss:.4f} | Train Acc: {train_acc:.4f}\")\n",
    "        print(f\"Val Loss: {val_loss:.4f} | Val Acc: {val_acc:.4f}\")\n",
    "\n",
    "        # You might still want to save the best model if desired,\n",
    "        # but the early stopping logic (epochs_no_improve) is removed.\n",
    "        # If you remove this, the model saved will be from the last epoch.\n",
    "        # Keeping it for now so you still save the best performing model during the full run.\n",
    "        if len(history['val_acc']) == 1 or val_acc > max(history['val_acc'][:-1]):\n",
    "            torch.save(model.state_dict(), 'best_model.pth')\n",
    "            print(\"Saved new best model based on validation accuracy (during full run)\")\n",
    "\n",
    "\n",
    "    # Plot training history using the new function\n",
    "    print(\"\\nPlotting training history...\")\n",
    "    plot_history(history)\n",
    "\n",
    "    # Test the model\n",
    "    print(\"\\nTesting on test set...\")\n",
    "    test_loss, test_acc = validate(model, test_loader, criterion, device)\n",
    "    print(f\"Test Loss: {test_loss:.4f} | Test Acc: {test_acc:.4f}\")\n",
    "\n",
    "    return model, history\n",
    "\n",
    "## Step 7: Run the training\n",
    "# Update these paths with your actual folder paths\n",
    "config[\"folder1_path\"] = r\"C:\\Users\\Talha\\Documents\\BIOSE\\Kvasir-SEG\\images\"\n",
    "config[\"folder2_path\"] = r\"C:\\Users\\Talha\\Documents\\BIOSE\\Kvasir-SEG\\masks\"\n",
    "\n",
    "# Run the training\n",
    "trained_model, training_history = main(config)\n",
    "\n",
    "# Save the final model\n",
    "torch.save(trained_model.state_dict(), 'final_model.pth')"
   ]
  },
  {
   "cell_type": "code",
   "execution_count": null,
   "id": "1aa6f9b8",
   "metadata": {},
   "outputs": [],
   "source": []
  }
 ],
 "metadata": {
  "kernelspec": {
   "display_name": "medical_img",
   "language": "python",
   "name": "python3"
  },
  "language_info": {
   "codemirror_mode": {
    "name": "ipython",
    "version": 3
   },
   "file_extension": ".py",
   "mimetype": "text/x-python",
   "name": "python",
   "nbconvert_exporter": "python",
   "pygments_lexer": "ipython3",
   "version": "3.11.11"
  }
 },
 "nbformat": 4,
 "nbformat_minor": 5
}
